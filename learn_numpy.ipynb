{
  "nbformat": 4,
  "nbformat_minor": 0,
  "metadata": {
    "colab": {
      "provenance": [],
      "authorship_tag": "ABX9TyM64uzFDUeFFn46T70K26Nw",
      "include_colab_link": true
    },
    "kernelspec": {
      "name": "python3",
      "display_name": "Python 3"
    },
    "language_info": {
      "name": "python"
    }
  },
  "cells": [
    {
      "cell_type": "markdown",
      "metadata": {
        "id": "view-in-github",
        "colab_type": "text"
      },
      "source": [
        "<a href=\"https://colab.research.google.com/github/pavankumarsai18/learn_ml/blob/main/learn_numpy.ipynb\" target=\"_parent\"><img src=\"https://colab.research.google.com/assets/colab-badge.svg\" alt=\"Open In Colab\"/></a>"
      ]
    },
    {
      "cell_type": "code",
      "execution_count": null,
      "metadata": {
        "id": "t1Q9RRP2uD7b"
      },
      "outputs": [],
      "source": [
        "import numpy as np\n",
        "import time\n",
        "\n",
        "\n",
        "\n"
      ]
    },
    {
      "cell_type": "code",
      "source": [
        "def time_it(func, args):\n",
        "  def helper(args):\n",
        "    start = time.time()\n",
        "    func(args)\n",
        "    end = time.time()\n",
        "    print(f\"function took {end - start} seconds\")\n",
        "  return helper\n",
        "\n",
        "\n",
        "def measure_mult_time_diff(num_elements):\n",
        "  python_list = [ num for num in range(num_elements) ]\n",
        "  numpy_list  = np.array([num for num in range(num_elements)])\n",
        "\n",
        "  np_start = time.time()\n",
        "  numpy_list *= 2\n",
        "  np_end   = time.time()\n",
        "\n",
        "  py_start = time.time()\n",
        "  for idx in range(len(python_list)):\n",
        "    python_list[idx] *= 2\n",
        "  py_end   = time.time()\n",
        "  return {\"np\": (np_end - np_start), \"py\": (py_end - py_start)}\n",
        "\n",
        "\n",
        "\n",
        "for x in range(1, 50):\n",
        "  num_items = 2**x\n",
        "  time_result = measure_mult_time_diff(num_items)\n",
        "  print(f\"num_items: 2^{x} np: {time_result['np']} sec, py: {time_result['py']} sec\")"
      ],
      "metadata": {
        "id": "Bvolp0qX0MdD"
      },
      "execution_count": null,
      "outputs": []
    },
    {
      "cell_type": "code",
      "source": [
        "\n",
        "np_arr = np.array([[1, 2, 3], [4, 5, 6]])\n",
        "\n",
        "\n",
        "# This is how you print the shape of array\n",
        "print(f\"shape of np_arr {np_arr.shape}\")\n",
        "\n",
        "# Shape is 2, 3 we can reshape the array as long\n",
        "# as the number of elements are the same\n",
        "\n",
        "np_arr = np.reshape(np_arr, (3, 2))\n",
        "\n",
        "print(f\"np_arr after reshaping to {np_arr.shape} is:\\n {np_arr}\")\n",
        "\n",
        "np_arr = np.reshape(np_arr, (6, 1))\n",
        "print(f\"np_arr after reshaping to {np_arr.shape} is:\\n {np_arr}\")\n",
        "\n",
        "np_arr = np.reshape(np_arr, (1, 6))\n",
        "print(f\"np_arr after reshaping to {np_arr.shape} is:\\n {np_arr}\")\n",
        "\n",
        "np_arr = np.reshape(np_arr, (2, 3))\n",
        "print(f\"np_arr after reshaping to {np_arr.shape} is:\\n {np_arr}\")\n",
        "\n"
      ],
      "metadata": {
        "colab": {
          "base_uri": "https://localhost:8080/"
        },
        "id": "QjYY7eXgz0p4",
        "outputId": "4cd4959b-affa-4a20-c5ed-8f3f8308eaac"
      },
      "execution_count": null,
      "outputs": [
        {
          "output_type": "stream",
          "name": "stdout",
          "text": [
            "shape of np_arr (2, 3)\n",
            "np_arr after reshaping to (3, 2) is:\n",
            " [[1 2]\n",
            " [3 4]\n",
            " [5 6]]\n",
            "np_arr after reshaping to (6, 1) is:\n",
            " [[1]\n",
            " [2]\n",
            " [3]\n",
            " [4]\n",
            " [5]\n",
            " [6]]\n",
            "np_arr after reshaping to (1, 6) is:\n",
            " [[1 2 3 4 5 6]]\n",
            "np_arr after reshaping to (2, 3) is:\n",
            " [[1 2 3]\n",
            " [4 5 6]]\n"
          ]
        }
      ]
    },
    {
      "cell_type": "code",
      "source": [
        "np_arr = np.array([[1, 2, 3], [4, 5, 6]])\n",
        "\n",
        "# axis = 0 --> is along  column\n",
        "np.sum(np_arr, axis=0)\n",
        "\n",
        "# axis = 1 --> along rows\n",
        "np.mean(np_arr, axis=1)\n"
      ],
      "metadata": {
        "colab": {
          "base_uri": "https://localhost:8080/"
        },
        "id": "j2HyeHtb1lq9",
        "outputId": "3f03610b-ac4d-4ad1-9ca4-dd871f71615e"
      },
      "execution_count": null,
      "outputs": [
        {
          "output_type": "execute_result",
          "data": {
            "text/plain": [
              "array([2., 5.])"
            ]
          },
          "metadata": {},
          "execution_count": 17
        }
      ]
    },
    {
      "cell_type": "code",
      "source": [
        "# arange create n items\n",
        "\n",
        "num_elements = 1_000_000\n",
        "np_arr = np.arange(num_elements)\n",
        "\n",
        "print(np_arr)"
      ],
      "metadata": {
        "colab": {
          "base_uri": "https://localhost:8080/"
        },
        "id": "Y8xF6niq2J3Q",
        "outputId": "72c87d41-8352-4b71-dd6c-8337a5025bff"
      },
      "execution_count": null,
      "outputs": [
        {
          "output_type": "stream",
          "name": "stdout",
          "text": [
            "[     0      1      2 ... 999997 999998 999999]\n"
          ]
        }
      ]
    }
  ]
}